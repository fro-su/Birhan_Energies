{
 "cells": [
  {
   "cell_type": "code",
   "execution_count": 29,
   "metadata": {},
   "outputs": [],
   "source": [
    "import os,sys"
   ]
  },
  {
   "cell_type": "code",
   "execution_count": 30,
   "metadata": {},
   "outputs": [],
   "source": [
    "# Get the absolute path of the parent directory\n",
    "rpath = os.path.abspath('..')\n",
    "if rpath not in sys.path:\n",
    "    sys.path.insert(0, rpath)"
   ]
  },
  {
   "cell_type": "code",
   "execution_count": 31,
   "metadata": {},
   "outputs": [],
   "source": [
    "# Add the 'scripts' directory to the Python path for module imports\n",
    "sys.path.append(os.path.abspath(os.path.join('..', 'scripts')))\n",
    "\n",
    "# import script for preprocessing\n",
    "from scripts.utils import *"
   ]
  },
  {
   "cell_type": "code",
   "execution_count": 32,
   "metadata": {},
   "outputs": [],
   "source": [
    "# Instantiate the DataAnalyzer class\n",
    "data_extracter = DataAnalyizer()"
   ]
  },
  {
   "cell_type": "code",
   "execution_count": 33,
   "metadata": {},
   "outputs": [
    {
     "name": "stdout",
     "output_type": "stream",
     "text": [
      "Fetching world data...\n",
      "Fetch complete. Data type: <class 'wbdata.client.DataFrame'>\n",
      "World data fetched and filtered by date successfully.\n",
      "        date  GDP Growth (%)  Inflation Rate (%)  Unemployment Rate (%)  \\\n",
      "0 2023-01-01        2.719333            5.691153               4.961431   \n",
      "1 2022-01-01        3.089607            7.967574               5.264616   \n",
      "2 2021-01-01        6.259851            3.466926               6.033761   \n",
      "3 2020-01-01       -2.932043            1.920968               6.585288   \n",
      "4 2019-01-01        2.642216            2.206073               5.582980   \n",
      "\n",
      "  Exchange Rate (USD)  \n",
      "0                None  \n",
      "1                None  \n",
      "2                None  \n",
      "3                None  \n",
      "4                None  \n",
      "Data saved to 'world_data.csv'.\n"
     ]
    }
   ],
   "source": [
    "# featch world gdp\n",
    "data_extracter.fetch_world_data()"
   ]
  },
  {
   "cell_type": "code",
   "execution_count": 34,
   "metadata": {},
   "outputs": [
    {
     "name": "stdout",
     "output_type": "stream",
     "text": [
      "World data resampled to daily frequency.\n",
      "            GDP Growth (%)  Inflation Rate (%)  Unemployment Rate (%)  \\\n",
      "date                                                                    \n",
      "1987-01-01        3.724627            5.710119                    NaN   \n",
      "1987-01-02        3.724627            5.710119                    NaN   \n",
      "1987-01-03        3.724627            5.710119                    NaN   \n",
      "1987-01-04        3.724627            5.710119                    NaN   \n",
      "1987-01-05        3.724627            5.710119                    NaN   \n",
      "\n",
      "           Exchange Rate (USD)  \n",
      "date                            \n",
      "1987-01-01                None  \n",
      "1987-01-02                None  \n",
      "1987-01-03                None  \n",
      "1987-01-04                None  \n",
      "1987-01-05                None  \n"
     ]
    }
   ],
   "source": [
    "data_extracter.resample_to_daily()"
   ]
  },
  {
   "cell_type": "markdown",
   "metadata": {},
   "source": [
    "load the data"
   ]
  },
  {
   "cell_type": "code",
   "execution_count": 35,
   "metadata": {},
   "outputs": [
    {
     "name": "stderr",
     "output_type": "stream",
     "text": [
      "c:\\Users\\Firew Ayele\\Desktop\\kifiya\\Birhan_Energies\\scripts\\utils.py:76: UserWarning: Could not infer format, so each element will be parsed individually, falling back to `dateutil`. To ensure parsing is consistent and as-expected, please specify a format.\n",
      "  self.oil_prices = pd.read_csv(file_path, parse_dates=['Date'], index_col='Date')\n"
     ]
    },
    {
     "name": "stdout",
     "output_type": "stream",
     "text": [
      "Oil prices loaded successfully.\n",
      "            Price\n",
      "Date             \n",
      "1987-05-20  18.63\n",
      "1987-05-21  18.45\n",
      "1987-05-22  18.55\n",
      "1987-05-25  18.60\n",
      "1987-05-26  18.63\n"
     ]
    }
   ],
   "source": [
    "file_path ='../data/BrentOilPrices.csv'\n",
    "data_extracter.load_oil_prices_from_csv(file_path=file_path)"
   ]
  },
  {
   "cell_type": "code",
   "execution_count": 36,
   "metadata": {},
   "outputs": [
    {
     "name": "stdout",
     "output_type": "stream",
     "text": [
      "Data merged successfully, maintaining only dates from oil prices data.\n",
      "            GDP Growth (%)  Inflation Rate (%)  Unemployment Rate (%)  \\\n",
      "Date                                                                    \n",
      "1987-05-20        3.724627            5.710119                    NaN   \n",
      "1987-05-21        3.724627            5.710119                    NaN   \n",
      "1987-05-22        3.724627            5.710119                    NaN   \n",
      "1987-05-25        3.724627            5.710119                    NaN   \n",
      "1987-05-26        3.724627            5.710119                    NaN   \n",
      "\n",
      "           Exchange Rate (USD)  Price  \n",
      "Date                                   \n",
      "1987-05-20                None  18.63  \n",
      "1987-05-21                None  18.45  \n",
      "1987-05-22                None  18.55  \n",
      "1987-05-25                None  18.60  \n",
      "1987-05-26                None  18.63  \n",
      "Merged data saved to 'merged_data.csv'.\n"
     ]
    }
   ],
   "source": [
    "data_extracter.merge_data()"
   ]
  },
  {
   "cell_type": "code",
   "execution_count": 37,
   "metadata": {},
   "outputs": [
    {
     "data": {
      "text/html": [
       "<div>\n",
       "<style scoped>\n",
       "    .dataframe tbody tr th:only-of-type {\n",
       "        vertical-align: middle;\n",
       "    }\n",
       "\n",
       "    .dataframe tbody tr th {\n",
       "        vertical-align: top;\n",
       "    }\n",
       "\n",
       "    .dataframe thead th {\n",
       "        text-align: right;\n",
       "    }\n",
       "</style>\n",
       "<table border=\"1\" class=\"dataframe\">\n",
       "  <thead>\n",
       "    <tr style=\"text-align: right;\">\n",
       "      <th></th>\n",
       "      <th>Date</th>\n",
       "      <th>GDP Growth (%)</th>\n",
       "      <th>Inflation Rate (%)</th>\n",
       "      <th>Unemployment Rate (%)</th>\n",
       "      <th>Exchange Rate (USD)</th>\n",
       "      <th>Price</th>\n",
       "    </tr>\n",
       "  </thead>\n",
       "  <tbody>\n",
       "    <tr>\n",
       "      <th>0</th>\n",
       "      <td>1987-05-20</td>\n",
       "      <td>3.724627</td>\n",
       "      <td>5.710119</td>\n",
       "      <td>NaN</td>\n",
       "      <td>NaN</td>\n",
       "      <td>18.63</td>\n",
       "    </tr>\n",
       "    <tr>\n",
       "      <th>1</th>\n",
       "      <td>1987-05-21</td>\n",
       "      <td>3.724627</td>\n",
       "      <td>5.710119</td>\n",
       "      <td>NaN</td>\n",
       "      <td>NaN</td>\n",
       "      <td>18.45</td>\n",
       "    </tr>\n",
       "    <tr>\n",
       "      <th>2</th>\n",
       "      <td>1987-05-22</td>\n",
       "      <td>3.724627</td>\n",
       "      <td>5.710119</td>\n",
       "      <td>NaN</td>\n",
       "      <td>NaN</td>\n",
       "      <td>18.55</td>\n",
       "    </tr>\n",
       "    <tr>\n",
       "      <th>3</th>\n",
       "      <td>1987-05-25</td>\n",
       "      <td>3.724627</td>\n",
       "      <td>5.710119</td>\n",
       "      <td>NaN</td>\n",
       "      <td>NaN</td>\n",
       "      <td>18.60</td>\n",
       "    </tr>\n",
       "    <tr>\n",
       "      <th>4</th>\n",
       "      <td>1987-05-26</td>\n",
       "      <td>3.724627</td>\n",
       "      <td>5.710119</td>\n",
       "      <td>NaN</td>\n",
       "      <td>NaN</td>\n",
       "      <td>18.63</td>\n",
       "    </tr>\n",
       "  </tbody>\n",
       "</table>\n",
       "</div>"
      ],
      "text/plain": [
       "         Date  GDP Growth (%)  Inflation Rate (%)  Unemployment Rate (%)  \\\n",
       "0  1987-05-20        3.724627            5.710119                    NaN   \n",
       "1  1987-05-21        3.724627            5.710119                    NaN   \n",
       "2  1987-05-22        3.724627            5.710119                    NaN   \n",
       "3  1987-05-25        3.724627            5.710119                    NaN   \n",
       "4  1987-05-26        3.724627            5.710119                    NaN   \n",
       "\n",
       "   Exchange Rate (USD)  Price  \n",
       "0                  NaN  18.63  \n",
       "1                  NaN  18.45  \n",
       "2                  NaN  18.55  \n",
       "3                  NaN  18.60  \n",
       "4                  NaN  18.63  "
      ]
     },
     "execution_count": 37,
     "metadata": {},
     "output_type": "execute_result"
    }
   ],
   "source": [
    "merged_data =pd.read_csv('merged_data.csv')\n",
    "merged_data.head()"
   ]
  },
  {
   "cell_type": "code",
   "execution_count": 38,
   "metadata": {},
   "outputs": [
    {
     "name": "stdout",
     "output_type": "stream",
     "text": [
      "<class 'pandas.core.frame.DataFrame'>\n",
      "RangeIndex: 9011 entries, 0 to 9010\n",
      "Data columns (total 6 columns):\n",
      " #   Column                 Non-Null Count  Dtype  \n",
      "---  ------                 --------------  -----  \n",
      " 0   Date                   9011 non-null   object \n",
      " 1   GDP Growth (%)         9011 non-null   float64\n",
      " 2   Inflation Rate (%)     9011 non-null   float64\n",
      " 3   Unemployment Rate (%)  8086 non-null   float64\n",
      " 4   Exchange Rate (USD)    0 non-null      float64\n",
      " 5   Price                  9011 non-null   float64\n",
      "dtypes: float64(5), object(1)\n",
      "memory usage: 422.5+ KB\n",
      "None\n",
      "       GDP Growth (%)  Inflation Rate (%)  Unemployment Rate (%)  \\\n",
      "count     9011.000000         9011.000000            8086.000000   \n",
      "mean         3.003393            4.783513               6.009630   \n",
      "std          1.595069            2.449660               0.393045   \n",
      "min         -2.932043            1.443857               4.996340   \n",
      "25%          2.642216            2.860449               5.899677   \n",
      "50%          3.123870            3.836573               6.048849   \n",
      "75%          3.929714            7.113407               6.265528   \n",
      "max          6.259851           10.247936               6.585288   \n",
      "\n",
      "       Exchange Rate (USD)        Price  \n",
      "count                  0.0  9011.000000  \n",
      "mean                   NaN    48.420782  \n",
      "std                    NaN    32.860110  \n",
      "min                    NaN     9.100000  \n",
      "25%                    NaN    19.050000  \n",
      "50%                    NaN    38.570000  \n",
      "75%                    NaN    70.090000  \n",
      "max                    NaN   143.950000  \n"
     ]
    }
   ],
   "source": [
    "# Check for missing values and data types\n",
    "print(merged_data.info())\n",
    "print(merged_data.describe())"
   ]
  },
  {
   "cell_type": "code",
   "execution_count": 39,
   "metadata": {},
   "outputs": [
    {
     "data": {
      "text/html": [
       "<div>\n",
       "<style scoped>\n",
       "    .dataframe tbody tr th:only-of-type {\n",
       "        vertical-align: middle;\n",
       "    }\n",
       "\n",
       "    .dataframe tbody tr th {\n",
       "        vertical-align: top;\n",
       "    }\n",
       "\n",
       "    .dataframe thead th {\n",
       "        text-align: right;\n",
       "    }\n",
       "</style>\n",
       "<table border=\"1\" class=\"dataframe\">\n",
       "  <thead>\n",
       "    <tr style=\"text-align: right;\">\n",
       "      <th></th>\n",
       "      <th>Date</th>\n",
       "      <th>GDP Growth (%)</th>\n",
       "      <th>Inflation Rate (%)</th>\n",
       "      <th>Unemployment Rate (%)</th>\n",
       "      <th>Price</th>\n",
       "    </tr>\n",
       "  </thead>\n",
       "  <tbody>\n",
       "    <tr>\n",
       "      <th>925</th>\n",
       "      <td>1991-01-02</td>\n",
       "      <td>1.255826</td>\n",
       "      <td>8.996939</td>\n",
       "      <td>4.996340</td>\n",
       "      <td>26.78</td>\n",
       "    </tr>\n",
       "    <tr>\n",
       "      <th>926</th>\n",
       "      <td>1991-01-03</td>\n",
       "      <td>1.255826</td>\n",
       "      <td>8.996939</td>\n",
       "      <td>4.996340</td>\n",
       "      <td>25.05</td>\n",
       "    </tr>\n",
       "    <tr>\n",
       "      <th>927</th>\n",
       "      <td>1991-01-04</td>\n",
       "      <td>1.255826</td>\n",
       "      <td>8.996939</td>\n",
       "      <td>4.996340</td>\n",
       "      <td>24.08</td>\n",
       "    </tr>\n",
       "    <tr>\n",
       "      <th>928</th>\n",
       "      <td>1991-01-07</td>\n",
       "      <td>1.255826</td>\n",
       "      <td>8.996939</td>\n",
       "      <td>4.996340</td>\n",
       "      <td>25.93</td>\n",
       "    </tr>\n",
       "    <tr>\n",
       "      <th>929</th>\n",
       "      <td>1991-01-08</td>\n",
       "      <td>1.255826</td>\n",
       "      <td>8.996939</td>\n",
       "      <td>4.996340</td>\n",
       "      <td>25.73</td>\n",
       "    </tr>\n",
       "    <tr>\n",
       "      <th>...</th>\n",
       "      <td>...</td>\n",
       "      <td>...</td>\n",
       "      <td>...</td>\n",
       "      <td>...</td>\n",
       "      <td>...</td>\n",
       "    </tr>\n",
       "    <tr>\n",
       "      <th>9006</th>\n",
       "      <td>2022-11-08</td>\n",
       "      <td>3.089607</td>\n",
       "      <td>7.967574</td>\n",
       "      <td>5.264616</td>\n",
       "      <td>96.85</td>\n",
       "    </tr>\n",
       "    <tr>\n",
       "      <th>9007</th>\n",
       "      <td>2022-11-09</td>\n",
       "      <td>3.089607</td>\n",
       "      <td>7.967574</td>\n",
       "      <td>5.264616</td>\n",
       "      <td>93.05</td>\n",
       "    </tr>\n",
       "    <tr>\n",
       "      <th>9008</th>\n",
       "      <td>2022-11-10</td>\n",
       "      <td>3.089607</td>\n",
       "      <td>7.967574</td>\n",
       "      <td>5.264616</td>\n",
       "      <td>94.25</td>\n",
       "    </tr>\n",
       "    <tr>\n",
       "      <th>9009</th>\n",
       "      <td>2022-11-11</td>\n",
       "      <td>3.089607</td>\n",
       "      <td>7.967574</td>\n",
       "      <td>5.264616</td>\n",
       "      <td>96.37</td>\n",
       "    </tr>\n",
       "    <tr>\n",
       "      <th>9010</th>\n",
       "      <td>2022-11-14</td>\n",
       "      <td>3.089607</td>\n",
       "      <td>7.967574</td>\n",
       "      <td>5.264616</td>\n",
       "      <td>93.59</td>\n",
       "    </tr>\n",
       "  </tbody>\n",
       "</table>\n",
       "<p>8086 rows × 5 columns</p>\n",
       "</div>"
      ],
      "text/plain": [
       "            Date  GDP Growth (%)  Inflation Rate (%)  Unemployment Rate (%)  \\\n",
       "925   1991-01-02        1.255826            8.996939               4.996340   \n",
       "926   1991-01-03        1.255826            8.996939               4.996340   \n",
       "927   1991-01-04        1.255826            8.996939               4.996340   \n",
       "928   1991-01-07        1.255826            8.996939               4.996340   \n",
       "929   1991-01-08        1.255826            8.996939               4.996340   \n",
       "...          ...             ...                 ...                    ...   \n",
       "9006  2022-11-08        3.089607            7.967574               5.264616   \n",
       "9007  2022-11-09        3.089607            7.967574               5.264616   \n",
       "9008  2022-11-10        3.089607            7.967574               5.264616   \n",
       "9009  2022-11-11        3.089607            7.967574               5.264616   \n",
       "9010  2022-11-14        3.089607            7.967574               5.264616   \n",
       "\n",
       "      Price  \n",
       "925   26.78  \n",
       "926   25.05  \n",
       "927   24.08  \n",
       "928   25.93  \n",
       "929   25.73  \n",
       "...     ...  \n",
       "9006  96.85  \n",
       "9007  93.05  \n",
       "9008  94.25  \n",
       "9009  96.37  \n",
       "9010  93.59  \n",
       "\n",
       "[8086 rows x 5 columns]"
      ]
     },
     "execution_count": 39,
     "metadata": {},
     "output_type": "execute_result"
    }
   ],
   "source": [
    "data =merged_data.drop(columns=['Exchange Rate (USD)'])\n",
    "data.dropna(inplace=True)\n",
    "data"
   ]
  }
 ],
 "metadata": {
  "kernelspec": {
   "display_name": ".venv_birhan",
   "language": "python",
   "name": "python3"
  },
  "language_info": {
   "codemirror_mode": {
    "name": "ipython",
    "version": 3
   },
   "file_extension": ".py",
   "mimetype": "text/x-python",
   "name": "python",
   "nbconvert_exporter": "python",
   "pygments_lexer": "ipython3",
   "version": "3.10.6"
  }
 },
 "nbformat": 4,
 "nbformat_minor": 2
}
