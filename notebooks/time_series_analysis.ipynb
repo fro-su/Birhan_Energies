{
 "cells": [
  {
   "cell_type": "code",
   "execution_count": 2,
   "metadata": {},
   "outputs": [],
   "source": [
    "import os,sys"
   ]
  },
  {
   "cell_type": "code",
   "execution_count": 3,
   "metadata": {},
   "outputs": [],
   "source": [
    "# Get the absolute path of the parent directory\n",
    "rpath = os.path.abspath('..')\n",
    "if rpath not in sys.path:\n",
    "    sys.path.insert(0, rpath)"
   ]
  },
  {
   "cell_type": "code",
   "execution_count": 7,
   "metadata": {},
   "outputs": [],
   "source": [
    "# Add the 'scripts' directory to the Python path for module imports\n",
    "sys.path.append(os.path.abspath(os.path.join('..', 'scripts')))\n",
    "\n",
    "# import script for preprocessing\n",
    "from scripts.utils import *"
   ]
  },
  {
   "cell_type": "code",
   "execution_count": 8,
   "metadata": {},
   "outputs": [],
   "source": [
    "# Instantiate the DataAnalyzer class\n",
    "data_extracter = DataAnalyizer()"
   ]
  },
  {
   "cell_type": "code",
   "execution_count": 9,
   "metadata": {},
   "outputs": [
    {
     "name": "stdout",
     "output_type": "stream",
     "text": [
      "Fetching world data...\n",
      "Fetch complete. Data type: <class 'wbdata.client.DataFrame'>\n",
      "World data fetched and filtered by date successfully.\n",
      "        date  GDP Growth (%)  Inflation Rate (%)  Unemployment Rate (%)  \\\n",
      "0 2023-01-01        2.719333            5.691153               4.961431   \n",
      "1 2022-01-01        3.089607            7.967574               5.264616   \n",
      "2 2021-01-01        6.259851            3.466926               6.033761   \n",
      "3 2020-01-01       -2.932043            1.920968               6.585288   \n",
      "4 2019-01-01        2.642216            2.206073               5.582980   \n",
      "\n",
      "  Exchange Rate (USD)  \n",
      "0                None  \n",
      "1                None  \n",
      "2                None  \n",
      "3                None  \n",
      "4                None  \n",
      "Data saved to 'world_data.csv'.\n"
     ]
    }
   ],
   "source": [
    "# featch world gdp\n",
    "data_extracter.fetch_world_data()"
   ]
  },
  {
   "cell_type": "code",
   "execution_count": 10,
   "metadata": {},
   "outputs": [
    {
     "name": "stdout",
     "output_type": "stream",
     "text": [
      "World data resampled to daily frequency.\n",
      "            GDP Growth (%)  Inflation Rate (%)  Unemployment Rate (%)  \\\n",
      "date                                                                    \n",
      "1987-01-01        3.724627            5.710119                    NaN   \n",
      "1987-01-02        3.724627            5.710119                    NaN   \n",
      "1987-01-03        3.724627            5.710119                    NaN   \n",
      "1987-01-04        3.724627            5.710119                    NaN   \n",
      "1987-01-05        3.724627            5.710119                    NaN   \n",
      "\n",
      "           Exchange Rate (USD)  \n",
      "date                            \n",
      "1987-01-01                None  \n",
      "1987-01-02                None  \n",
      "1987-01-03                None  \n",
      "1987-01-04                None  \n",
      "1987-01-05                None  \n"
     ]
    }
   ],
   "source": [
    "data_extracter.resample_to_daily()"
   ]
  },
  {
   "cell_type": "markdown",
   "metadata": {},
   "source": [
    "load the data"
   ]
  },
  {
   "cell_type": "code",
   "execution_count": 12,
   "metadata": {},
   "outputs": [
    {
     "name": "stderr",
     "output_type": "stream",
     "text": [
      "c:\\Users\\Firew Ayele\\Desktop\\kifiya\\Birhan_Energies\\scripts\\utils.py:76: UserWarning: Could not infer format, so each element will be parsed individually, falling back to `dateutil`. To ensure parsing is consistent and as-expected, please specify a format.\n",
      "  self.oil_prices = pd.read_csv(file_path, parse_dates=['Date'], index_col='Date')\n"
     ]
    },
    {
     "name": "stdout",
     "output_type": "stream",
     "text": [
      "Oil prices loaded successfully.\n",
      "            Price\n",
      "Date             \n",
      "1987-05-20  18.63\n",
      "1987-05-21  18.45\n",
      "1987-05-22  18.55\n",
      "1987-05-25  18.60\n",
      "1987-05-26  18.63\n"
     ]
    }
   ],
   "source": [
    "file_path ='../data/BrentOilPrices.csv'\n",
    "data_extracter.load_oil_prices_from_csv(file_path=file_path)"
   ]
  },
  {
   "cell_type": "code",
   "execution_count": null,
   "metadata": {},
   "outputs": [],
   "source": []
  }
 ],
 "metadata": {
  "kernelspec": {
   "display_name": ".venv_birhan",
   "language": "python",
   "name": "python3"
  },
  "language_info": {
   "codemirror_mode": {
    "name": "ipython",
    "version": 3
   },
   "file_extension": ".py",
   "mimetype": "text/x-python",
   "name": "python",
   "nbconvert_exporter": "python",
   "pygments_lexer": "ipython3",
   "version": "3.10.6"
  }
 },
 "nbformat": 4,
 "nbformat_minor": 2
}
